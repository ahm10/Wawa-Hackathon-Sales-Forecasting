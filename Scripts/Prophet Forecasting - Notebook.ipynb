{
 "cells": [
  {
   "cell_type": "code",
   "execution_count": null,
   "metadata": {},
   "outputs": [],
   "source": [
    "import pandas as pd\n",
    "from fbprophet import Prophet\n",
    "from fbprophet.diagnostics import cross_validation, performance_metrics\n",
    "import os\n",
    "\n",
    "from fbprophet.plot import plot_plotly\n",
    "import plotly.offline as py\n",
    "from plotly.offline import iplot, plot, download_plotlyjs, init_notebook_mode"
   ]
  },
  {
   "cell_type": "code",
   "execution_count": null,
   "metadata": {},
   "outputs": [],
   "source": [
    "filepath = \"C:/Users/user/Downloads/sales-wawa.csv\"\n",
    "output = \"C:/Users/user/Downloads/\"\n",
    "df = pd.read_csv(filepath)\n",
    "\n",
    "df_sales = df.dropna()\n",
    "df_sales = df_sales[['store_number','date','sales_index']]\n",
    "df_sales['date'] = pd.to_datetime(df_sales['date'])"
   ]
  },
  {
   "cell_type": "code",
   "execution_count": null,
   "metadata": {},
   "outputs": [],
   "source": [
    "def forecast(stores,m,df):\n",
    "    store = df.loc[df['store_number'] ==  stores][['date','sales_index']]\n",
    "    store.rename(columns={'date':'ds', 'sales_index':'y'}, inplace=True)\n",
    "    m.fit(store)\n",
    "    future = m.make_future_dataframe(periods=365)\n",
    "    forecast = m.predict(future)\n",
    "    m.plot(forecast)\n",
    "    m.plot_components(forecast)\n",
    "    return forecast\n",
    "\n",
    "def validation(m):\n",
    "    df_cv = cross_validation(m, horizon='90 days')\n",
    "    df_p = performance_metrics(df_cv)\n",
    "    return df_p"
   ]
  },
  {
   "cell_type": "code",
   "execution_count": null,
   "metadata": {},
   "outputs": [],
   "source": [
    "store_num = df_sales.store_number.unique().tolist()\n",
    "for stores in store_num:\n",
    "    m = Prophet()\n",
    "    df_f = forecast(stores,m, df_sales)\n",
    "    df_p = validation(m)\n",
    "    \n",
    "    #Interactive Plotly Graph\n",
    "    py.init_notebook_mode()\n",
    "    fig = plot_plotly(m, df_f)\n",
    "    py.iplot(fig)\n",
    "    \n",
    "    #Writing Output to Excel Files\n",
    "    if not os.path.exists(output+\"\\\\\"+str(stores)):\n",
    "        os.makedirs(output+\"\\\\\"+str(stores))\n",
    "        df_p.to_excel(output+\"\\\\\"+str(stores)+\"\\\\\"+str(stores)+\"_p.xlsx\",sheet_name='Prediction')\n",
    "        df_f.to_excel(output+\"\\\\\"+str(stores)+\"\\\\\"+str(stores)+\"_f.xlsx\",sheet_name='Forecast')"
   ]
  }
 ],
 "metadata": {
  "kernelspec": {
   "display_name": "Python 3",
   "language": "python",
   "name": "python3"
  },
  "language_info": {
   "codemirror_mode": {
    "name": "ipython",
    "version": 3
   },
   "file_extension": ".py",
   "mimetype": "text/x-python",
   "name": "python",
   "nbconvert_exporter": "python",
   "pygments_lexer": "ipython3",
   "version": "3.7.3"
  }
 },
 "nbformat": 4,
 "nbformat_minor": 2
}
